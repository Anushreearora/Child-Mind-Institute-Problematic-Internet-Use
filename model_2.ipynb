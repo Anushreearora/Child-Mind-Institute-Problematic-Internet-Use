{
 "cells": [
  {
   "cell_type": "code",
   "execution_count": 1,
   "metadata": {},
   "outputs": [],
   "source": [
    "import pandas as pd\n",
    "import numpy as np\n",
    "import matplotlib.pyplot as plt\n",
    "import seaborn as sns\n",
    "from sklearn.preprocessing import StandardScaler, MinMaxScaler\n",
    "from sklearn.decomposition import PCA\n",
    "from concurrent.futures import ThreadPoolExecutor\n",
    "import os\n",
    "from tqdm import tqdm\n",
    "from sklearn.impute import KNNImputer\n",
    "from sklearn.base import clone\n",
    "from sklearn.linear_model import LassoCV\n",
    "from sklearn.linear_model import LogisticRegression\n",
    "from xgboost import XGBRegressor\n",
    "from sklearn.model_selection import KFold\n",
    "from sklearn.metrics import mean_squared_error, accuracy_score, cohen_kappa_score\n",
    "from sklearn.preprocessing import LabelEncoder\n",
    "from sklearn.compose import ColumnTransformer\n",
    "from sklearn.pipeline import Pipeline\n",
    "from sklearn.preprocessing import MinMaxScaler\n",
    "from sklearn.experimental import enable_iterative_imputer\n",
    "from sklearn.impute import IterativeImputer\n",
    "from sklearn.linear_model import BayesianRidge"
   ]
  },
  {
   "cell_type": "code",
   "execution_count": 47,
   "metadata": {},
   "outputs": [],
   "source": [
    "# Constants\n",
    "SEED = 42"
   ]
  },
  {
   "cell_type": "code",
   "execution_count": 48,
   "metadata": {},
   "outputs": [],
   "source": [
    "# Loading the datasets\n",
    "train_file_path = \"train_ft.csv\"\n",
    "train = pd.read_csv(train_file_path)\n",
    "test_file_path = \"test_ft.csv\"\n",
    "test = pd.read_csv(test_file_path)\n",
    "df = train"
   ]
  },
  {
   "cell_type": "code",
   "execution_count": 49,
   "metadata": {},
   "outputs": [],
   "source": [
    "train.dropna(subset=['sii'], how='all', inplace=True)\n"
   ]
  },
  {
   "cell_type": "code",
   "execution_count": 50,
   "metadata": {},
   "outputs": [
    {
     "data": {
      "text/plain": [
       "\"train[['PCIAT-PCIAT_01', 'PCIAT-PCIAT_02', 'PCIAT-PCIAT_03',\\n           'PCIAT-PCIAT_04', 'PCIAT-PCIAT_05', 'PCIAT-PCIAT_06', 'PCIAT-PCIAT_07',\\n           'PCIAT-PCIAT_08', 'PCIAT-PCIAT_09', 'PCIAT-PCIAT_10', 'PCIAT-PCIAT_11',\\n           'PCIAT-PCIAT_12', 'PCIAT-PCIAT_13', 'PCIAT-PCIAT_14', 'PCIAT-PCIAT_15',\\n           'PCIAT-PCIAT_16', 'PCIAT-PCIAT_17', 'PCIAT-PCIAT_18', 'PCIAT-PCIAT_19',\\n           'PCIAT-PCIAT_20']] = train[['PCIAT-PCIAT_01', 'PCIAT-PCIAT_02', 'PCIAT-PCIAT_03',\\n           'PCIAT-PCIAT_04', 'PCIAT-PCIAT_05', 'PCIAT-PCIAT_06', 'PCIAT-PCIAT_07',\\n           'PCIAT-PCIAT_08', 'PCIAT-PCIAT_09', 'PCIAT-PCIAT_10', 'PCIAT-PCIAT_11',\\n           'PCIAT-PCIAT_12', 'PCIAT-PCIAT_13', 'PCIAT-PCIAT_14', 'PCIAT-PCIAT_15',\\n           'PCIAT-PCIAT_16', 'PCIAT-PCIAT_17', 'PCIAT-PCIAT_18', 'PCIAT-PCIAT_19',\\n           'PCIAT-PCIAT_20']].fillna(5) # Fill NaN values with 5\""
      ]
     },
     "execution_count": 50,
     "metadata": {},
     "output_type": "execute_result"
    }
   ],
   "source": [
    "'''train[['PCIAT-PCIAT_01', 'PCIAT-PCIAT_02', 'PCIAT-PCIAT_03',\n",
    "           'PCIAT-PCIAT_04', 'PCIAT-PCIAT_05', 'PCIAT-PCIAT_06', 'PCIAT-PCIAT_07',\n",
    "           'PCIAT-PCIAT_08', 'PCIAT-PCIAT_09', 'PCIAT-PCIAT_10', 'PCIAT-PCIAT_11',\n",
    "           'PCIAT-PCIAT_12', 'PCIAT-PCIAT_13', 'PCIAT-PCIAT_14', 'PCIAT-PCIAT_15',\n",
    "           'PCIAT-PCIAT_16', 'PCIAT-PCIAT_17', 'PCIAT-PCIAT_18', 'PCIAT-PCIAT_19',\n",
    "           'PCIAT-PCIAT_20']] = train[['PCIAT-PCIAT_01', 'PCIAT-PCIAT_02', 'PCIAT-PCIAT_03',\n",
    "           'PCIAT-PCIAT_04', 'PCIAT-PCIAT_05', 'PCIAT-PCIAT_06', 'PCIAT-PCIAT_07',\n",
    "           'PCIAT-PCIAT_08', 'PCIAT-PCIAT_09', 'PCIAT-PCIAT_10', 'PCIAT-PCIAT_11',\n",
    "           'PCIAT-PCIAT_12', 'PCIAT-PCIAT_13', 'PCIAT-PCIAT_14', 'PCIAT-PCIAT_15',\n",
    "           'PCIAT-PCIAT_16', 'PCIAT-PCIAT_17', 'PCIAT-PCIAT_18', 'PCIAT-PCIAT_19',\n",
    "           'PCIAT-PCIAT_20']].fillna(5) # Fill NaN values with 5'''"
   ]
  },
  {
   "cell_type": "code",
   "execution_count": 51,
   "metadata": {},
   "outputs": [
    {
     "data": {
      "text/plain": [
       "\"train['PCIAT_Total_Imputed'] = train[['PCIAT-PCIAT_01', 'PCIAT-PCIAT_02', 'PCIAT-PCIAT_03',\\n           'PCIAT-PCIAT_04', 'PCIAT-PCIAT_05', 'PCIAT-PCIAT_06', 'PCIAT-PCIAT_07',\\n           'PCIAT-PCIAT_08', 'PCIAT-PCIAT_09', 'PCIAT-PCIAT_10', 'PCIAT-PCIAT_11',\\n           'PCIAT-PCIAT_12', 'PCIAT-PCIAT_13', 'PCIAT-PCIAT_14', 'PCIAT-PCIAT_15',\\n           'PCIAT-PCIAT_16', 'PCIAT-PCIAT_17', 'PCIAT-PCIAT_18', 'PCIAT-PCIAT_19',\\n           'PCIAT-PCIAT_20']].sum(axis=1)\""
      ]
     },
     "execution_count": 51,
     "metadata": {},
     "output_type": "execute_result"
    }
   ],
   "source": [
    "'''train['PCIAT_Total_Imputed'] = train[['PCIAT-PCIAT_01', 'PCIAT-PCIAT_02', 'PCIAT-PCIAT_03',\n",
    "           'PCIAT-PCIAT_04', 'PCIAT-PCIAT_05', 'PCIAT-PCIAT_06', 'PCIAT-PCIAT_07',\n",
    "           'PCIAT-PCIAT_08', 'PCIAT-PCIAT_09', 'PCIAT-PCIAT_10', 'PCIAT-PCIAT_11',\n",
    "           'PCIAT-PCIAT_12', 'PCIAT-PCIAT_13', 'PCIAT-PCIAT_14', 'PCIAT-PCIAT_15',\n",
    "           'PCIAT-PCIAT_16', 'PCIAT-PCIAT_17', 'PCIAT-PCIAT_18', 'PCIAT-PCIAT_19',\n",
    "           'PCIAT-PCIAT_20']].sum(axis=1)'''"
   ]
  },
  {
   "cell_type": "code",
   "execution_count": 52,
   "metadata": {},
   "outputs": [],
   "source": [
    "sii_thresholds = [0, 30, 50, 80, 100] # Thresholds for rating\n",
    "def get_rating(x): ## Thresholds for rating\n",
    "    if 0 <= x <= 29:\n",
    "        return 0\n",
    "    elif 30 <= x <= 49:\n",
    "        return 1\n",
    "    elif 50 <= x <= 79:\n",
    "        return 2\n",
    "    else:\n",
    "        return 3\n",
    "\n",
    "def quadratic_weighted_kappa(y_true, y_pred): # The Quadric Kappa Evaluation Metric\n",
    "    return cohen_kappa_score(y_true, y_pred, weights='quadratic')\n",
    "\n",
    "def evaluate_predictions(y_true, oof_non_rounded):\n",
    "    rounded_p = get_rating(oof_non_rounded)\n",
    "    return -quadratic_weighted_kappa(y_true, rounded_p)\n",
    "\n",
    "#train_impute_lr['new_sii'] = train_impute_lr['PCIAT_Total_Imputed'].apply(get_rating)"
   ]
  },
  {
   "cell_type": "code",
   "execution_count": 53,
   "metadata": {},
   "outputs": [],
   "source": [
    "train_model = train\n",
    "X = train_model.drop(columns=['id', 'sii', 'PCIAT-PCIAT_01', 'PCIAT-PCIAT_02', 'PCIAT-PCIAT_03','PCIAT-PCIAT_04', 'PCIAT-PCIAT_05', 'PCIAT-PCIAT_06', 'PCIAT-PCIAT_07',\n",
    "           'PCIAT-PCIAT_08', 'PCIAT-PCIAT_09', 'PCIAT-PCIAT_10', 'PCIAT-PCIAT_11',\n",
    "           'PCIAT-PCIAT_12', 'PCIAT-PCIAT_13', 'PCIAT-PCIAT_14', 'PCIAT-PCIAT_15',\n",
    "           'PCIAT-PCIAT_16', 'PCIAT-PCIAT_17', 'PCIAT-PCIAT_18', 'PCIAT-PCIAT_19',\n",
    "           'PCIAT-PCIAT_20', 'PCIAT-PCIAT_Total'])\n",
    "Y = train['PCIAT-PCIAT_Total']\n",
    "for col in X.columns:\n",
    "    if X[col].dtype == 'object' or str(X[col].dtype) == 'category':\n",
    "        le = LabelEncoder()\n",
    "        X[col] = le.fit_transform(X[col].astype(str))"
   ]
  },
  {
   "cell_type": "code",
   "execution_count": 54,
   "metadata": {},
   "outputs": [
    {
     "name": "stdout",
     "output_type": "stream",
     "text": [
      "[0]\tvalidation_0-rmse:20.44325\n",
      "[1]\tvalidation_0-rmse:20.07227\n",
      "[2]\tvalidation_0-rmse:19.74152\n",
      "[3]\tvalidation_0-rmse:19.44684\n",
      "[4]\tvalidation_0-rmse:19.14312\n",
      "[5]\tvalidation_0-rmse:18.96125\n",
      "[6]\tvalidation_0-rmse:18.84557\n",
      "[7]\tvalidation_0-rmse:18.68123\n",
      "[8]\tvalidation_0-rmse:18.60034\n",
      "[9]\tvalidation_0-rmse:18.53428\n",
      "[10]\tvalidation_0-rmse:18.46875\n",
      "[11]\tvalidation_0-rmse:18.45318\n",
      "[12]\tvalidation_0-rmse:18.38242\n",
      "[13]\tvalidation_0-rmse:18.31569\n",
      "[14]\tvalidation_0-rmse:18.34262\n",
      "[15]\tvalidation_0-rmse:18.29923\n",
      "[16]\tvalidation_0-rmse:18.25345\n",
      "[17]\tvalidation_0-rmse:18.26573\n",
      "[18]\tvalidation_0-rmse:18.30668\n",
      "[19]\tvalidation_0-rmse:18.29696\n",
      "[20]\tvalidation_0-rmse:18.30844\n",
      "[21]\tvalidation_0-rmse:18.27362\n",
      "[22]\tvalidation_0-rmse:18.28224\n",
      "[23]\tvalidation_0-rmse:18.25971\n",
      "[24]\tvalidation_0-rmse:18.23312\n",
      "[25]\tvalidation_0-rmse:18.22671\n",
      "[26]\tvalidation_0-rmse:18.21775\n",
      "[27]\tvalidation_0-rmse:18.18738\n",
      "[28]\tvalidation_0-rmse:18.20600\n",
      "[29]\tvalidation_0-rmse:18.19550\n",
      "[30]\tvalidation_0-rmse:18.21465\n",
      "[31]\tvalidation_0-rmse:18.24868\n",
      "[32]\tvalidation_0-rmse:18.25177\n",
      "[33]\tvalidation_0-rmse:18.26075\n",
      "[34]\tvalidation_0-rmse:18.25837\n",
      "[35]\tvalidation_0-rmse:18.26534\n",
      "[36]\tvalidation_0-rmse:18.26947\n",
      "[37]\tvalidation_0-rmse:18.27654\n",
      "[38]\tvalidation_0-rmse:18.26806\n",
      "[39]\tvalidation_0-rmse:18.25366\n",
      "[40]\tvalidation_0-rmse:18.24004\n",
      "[41]\tvalidation_0-rmse:18.24741\n",
      "[42]\tvalidation_0-rmse:18.26170\n",
      "[43]\tvalidation_0-rmse:18.25014\n",
      "[44]\tvalidation_0-rmse:18.24268\n",
      "[45]\tvalidation_0-rmse:18.24592\n",
      "[46]\tvalidation_0-rmse:18.22354\n",
      "[47]\tvalidation_0-rmse:18.23751\n",
      "[48]\tvalidation_0-rmse:18.21915\n",
      "[49]\tvalidation_0-rmse:18.22110\n",
      "[50]\tvalidation_0-rmse:18.24899\n",
      "[51]\tvalidation_0-rmse:18.25372\n",
      "[52]\tvalidation_0-rmse:18.26260\n",
      "[53]\tvalidation_0-rmse:18.26923\n",
      "[54]\tvalidation_0-rmse:18.28260\n",
      "[55]\tvalidation_0-rmse:18.28981\n",
      "[56]\tvalidation_0-rmse:18.28543\n",
      "[57]\tvalidation_0-rmse:18.28265\n",
      "[58]\tvalidation_0-rmse:18.27775\n",
      "[59]\tvalidation_0-rmse:18.26811\n",
      "[60]\tvalidation_0-rmse:18.26052\n",
      "[61]\tvalidation_0-rmse:18.28089\n",
      "[62]\tvalidation_0-rmse:18.29908\n",
      "[63]\tvalidation_0-rmse:18.30447\n",
      "[64]\tvalidation_0-rmse:18.31757\n",
      "[65]\tvalidation_0-rmse:18.32049\n",
      "[66]\tvalidation_0-rmse:18.34827\n",
      "[67]\tvalidation_0-rmse:18.35183\n",
      "[68]\tvalidation_0-rmse:18.36164\n",
      "[69]\tvalidation_0-rmse:18.35883\n",
      "[70]\tvalidation_0-rmse:18.37171\n",
      "[71]\tvalidation_0-rmse:18.37523\n",
      "[72]\tvalidation_0-rmse:18.36357\n",
      "[73]\tvalidation_0-rmse:18.37708\n",
      "[74]\tvalidation_0-rmse:18.36486\n",
      "[75]\tvalidation_0-rmse:18.37848\n",
      "[76]\tvalidation_0-rmse:18.39182\n",
      "[77]\tvalidation_0-rmse:18.37364\n",
      "[78]\tvalidation_0-rmse:18.36562\n",
      "[79]\tvalidation_0-rmse:18.38620\n",
      "[80]\tvalidation_0-rmse:18.37631\n",
      "[81]\tvalidation_0-rmse:18.38968\n",
      "[82]\tvalidation_0-rmse:18.39404\n",
      "[83]\tvalidation_0-rmse:18.39170\n",
      "[84]\tvalidation_0-rmse:18.39691\n",
      "[85]\tvalidation_0-rmse:18.41004\n",
      "[86]\tvalidation_0-rmse:18.42696\n",
      "[87]\tvalidation_0-rmse:18.44383\n",
      "[88]\tvalidation_0-rmse:18.46975\n",
      "[89]\tvalidation_0-rmse:18.48409\n",
      "[90]\tvalidation_0-rmse:18.49850\n",
      "[91]\tvalidation_0-rmse:18.50289\n",
      "[92]\tvalidation_0-rmse:18.50488\n",
      "[93]\tvalidation_0-rmse:18.51596\n",
      "[94]\tvalidation_0-rmse:18.52048\n",
      "[95]\tvalidation_0-rmse:18.51689\n",
      "[96]\tvalidation_0-rmse:18.53437\n",
      "[97]\tvalidation_0-rmse:18.53630\n",
      "[98]\tvalidation_0-rmse:18.54590\n",
      "[99]\tvalidation_0-rmse:18.55733\n",
      "[0]\tvalidation_0-rmse:19.25562\n",
      "[1]\tvalidation_0-rmse:18.84626\n",
      "[2]\tvalidation_0-rmse:18.45074\n",
      "[3]\tvalidation_0-rmse:18.17199\n",
      "[4]\tvalidation_0-rmse:17.91337\n",
      "[5]\tvalidation_0-rmse:17.72856\n",
      "[6]\tvalidation_0-rmse:17.57337\n",
      "[7]\tvalidation_0-rmse:17.40621\n",
      "[8]\tvalidation_0-rmse:17.30997\n",
      "[9]\tvalidation_0-rmse:17.21740\n",
      "[10]\tvalidation_0-rmse:17.13671\n",
      "[11]\tvalidation_0-rmse:17.12796\n",
      "[12]\tvalidation_0-rmse:17.03460\n",
      "[13]\tvalidation_0-rmse:16.98030\n",
      "[14]\tvalidation_0-rmse:16.95298\n",
      "[15]\tvalidation_0-rmse:16.92418\n",
      "[16]\tvalidation_0-rmse:16.89886\n",
      "[17]\tvalidation_0-rmse:16.88604\n",
      "[18]\tvalidation_0-rmse:16.89846\n",
      "[19]\tvalidation_0-rmse:16.88258\n",
      "[20]\tvalidation_0-rmse:16.87705\n",
      "[21]\tvalidation_0-rmse:16.88152\n",
      "[22]\tvalidation_0-rmse:16.89570\n",
      "[23]\tvalidation_0-rmse:16.89420\n",
      "[24]\tvalidation_0-rmse:16.90381\n",
      "[25]\tvalidation_0-rmse:16.89737\n",
      "[26]\tvalidation_0-rmse:16.88167\n",
      "[27]\tvalidation_0-rmse:16.86073\n",
      "[28]\tvalidation_0-rmse:16.85195\n",
      "[29]\tvalidation_0-rmse:16.84554\n",
      "[30]\tvalidation_0-rmse:16.82928\n",
      "[31]\tvalidation_0-rmse:16.85725\n",
      "[32]\tvalidation_0-rmse:16.85992\n",
      "[33]\tvalidation_0-rmse:16.86826\n",
      "[34]\tvalidation_0-rmse:16.90636\n",
      "[35]\tvalidation_0-rmse:16.91081\n",
      "[36]\tvalidation_0-rmse:16.91102\n",
      "[37]\tvalidation_0-rmse:16.90878\n",
      "[38]\tvalidation_0-rmse:16.90965\n",
      "[39]\tvalidation_0-rmse:16.93216\n",
      "[40]\tvalidation_0-rmse:16.93503\n",
      "[41]\tvalidation_0-rmse:16.94951\n",
      "[42]\tvalidation_0-rmse:16.96212\n",
      "[43]\tvalidation_0-rmse:16.97029\n",
      "[44]\tvalidation_0-rmse:16.97233\n",
      "[45]\tvalidation_0-rmse:16.98619\n",
      "[46]\tvalidation_0-rmse:16.99267\n",
      "[47]\tvalidation_0-rmse:16.98804\n",
      "[48]\tvalidation_0-rmse:17.01661\n",
      "[49]\tvalidation_0-rmse:17.02117\n",
      "[50]\tvalidation_0-rmse:17.03671\n",
      "[51]\tvalidation_0-rmse:17.04718\n",
      "[52]\tvalidation_0-rmse:17.06314\n",
      "[53]\tvalidation_0-rmse:17.05624\n",
      "[54]\tvalidation_0-rmse:17.08060\n",
      "[55]\tvalidation_0-rmse:17.07732\n",
      "[56]\tvalidation_0-rmse:17.08715\n",
      "[57]\tvalidation_0-rmse:17.09450\n",
      "[58]\tvalidation_0-rmse:17.09284\n",
      "[59]\tvalidation_0-rmse:17.11691\n",
      "[60]\tvalidation_0-rmse:17.12612\n",
      "[61]\tvalidation_0-rmse:17.13937\n",
      "[62]\tvalidation_0-rmse:17.13944\n",
      "[63]\tvalidation_0-rmse:17.14768\n",
      "[64]\tvalidation_0-rmse:17.15168\n",
      "[65]\tvalidation_0-rmse:17.16007\n",
      "[66]\tvalidation_0-rmse:17.15850\n",
      "[67]\tvalidation_0-rmse:17.16408\n",
      "[68]\tvalidation_0-rmse:17.15342\n",
      "[69]\tvalidation_0-rmse:17.15253\n",
      "[70]\tvalidation_0-rmse:17.14642\n",
      "[71]\tvalidation_0-rmse:17.15755\n",
      "[72]\tvalidation_0-rmse:17.15928\n",
      "[73]\tvalidation_0-rmse:17.14648\n",
      "[74]\tvalidation_0-rmse:17.14247\n",
      "[75]\tvalidation_0-rmse:17.14385\n",
      "[76]\tvalidation_0-rmse:17.15177\n",
      "[77]\tvalidation_0-rmse:17.15476\n",
      "[78]\tvalidation_0-rmse:17.14892\n",
      "[79]\tvalidation_0-rmse:17.16563\n",
      "[80]\tvalidation_0-rmse:17.15477\n",
      "[81]\tvalidation_0-rmse:17.15289\n",
      "[82]\tvalidation_0-rmse:17.16279\n",
      "[83]\tvalidation_0-rmse:17.16534\n",
      "[84]\tvalidation_0-rmse:17.16870\n",
      "[85]\tvalidation_0-rmse:17.18142\n",
      "[86]\tvalidation_0-rmse:17.17259\n",
      "[87]\tvalidation_0-rmse:17.17481\n",
      "[88]\tvalidation_0-rmse:17.17455\n",
      "[89]\tvalidation_0-rmse:17.16571\n",
      "[90]\tvalidation_0-rmse:17.18521\n",
      "[91]\tvalidation_0-rmse:17.19307\n",
      "[92]\tvalidation_0-rmse:17.19972\n",
      "[93]\tvalidation_0-rmse:17.20996\n",
      "[94]\tvalidation_0-rmse:17.20658\n",
      "[95]\tvalidation_0-rmse:17.22317\n",
      "[96]\tvalidation_0-rmse:17.23077\n",
      "[97]\tvalidation_0-rmse:17.23178\n",
      "[98]\tvalidation_0-rmse:17.24673\n",
      "[99]\tvalidation_0-rmse:17.25516\n",
      "[0]\tvalidation_0-rmse:19.48516\n",
      "[1]\tvalidation_0-rmse:19.11965\n",
      "[2]\tvalidation_0-rmse:18.80296\n",
      "[3]\tvalidation_0-rmse:18.50611\n",
      "[4]\tvalidation_0-rmse:18.31269\n",
      "[5]\tvalidation_0-rmse:18.17214\n",
      "[6]\tvalidation_0-rmse:18.06273\n",
      "[7]\tvalidation_0-rmse:17.95260\n",
      "[8]\tvalidation_0-rmse:17.88228\n",
      "[9]\tvalidation_0-rmse:17.81732\n",
      "[10]\tvalidation_0-rmse:17.78192\n",
      "[11]\tvalidation_0-rmse:17.76970\n",
      "[12]\tvalidation_0-rmse:17.73446\n",
      "[13]\tvalidation_0-rmse:17.70311\n",
      "[14]\tvalidation_0-rmse:17.72291\n",
      "[15]\tvalidation_0-rmse:17.68932\n",
      "[16]\tvalidation_0-rmse:17.68249\n",
      "[17]\tvalidation_0-rmse:17.66264\n",
      "[18]\tvalidation_0-rmse:17.65881\n",
      "[19]\tvalidation_0-rmse:17.67830\n",
      "[20]\tvalidation_0-rmse:17.68425\n",
      "[21]\tvalidation_0-rmse:17.67324\n",
      "[22]\tvalidation_0-rmse:17.67514\n",
      "[23]\tvalidation_0-rmse:17.65709\n",
      "[24]\tvalidation_0-rmse:17.66310\n",
      "[25]\tvalidation_0-rmse:17.66949\n",
      "[26]\tvalidation_0-rmse:17.63983\n",
      "[27]\tvalidation_0-rmse:17.64818\n",
      "[28]\tvalidation_0-rmse:17.62131\n",
      "[29]\tvalidation_0-rmse:17.62000\n",
      "[30]\tvalidation_0-rmse:17.64745\n",
      "[31]\tvalidation_0-rmse:17.65032\n",
      "[32]\tvalidation_0-rmse:17.65849\n",
      "[33]\tvalidation_0-rmse:17.66386\n",
      "[34]\tvalidation_0-rmse:17.66205\n",
      "[35]\tvalidation_0-rmse:17.67097\n",
      "[36]\tvalidation_0-rmse:17.66602\n",
      "[37]\tvalidation_0-rmse:17.68052\n",
      "[38]\tvalidation_0-rmse:17.69514\n",
      "[39]\tvalidation_0-rmse:17.68932\n",
      "[40]\tvalidation_0-rmse:17.69467\n",
      "[41]\tvalidation_0-rmse:17.69902\n",
      "[42]\tvalidation_0-rmse:17.69691\n",
      "[43]\tvalidation_0-rmse:17.70401\n",
      "[44]\tvalidation_0-rmse:17.69563\n",
      "[45]\tvalidation_0-rmse:17.69363\n",
      "[46]\tvalidation_0-rmse:17.70525\n",
      "[47]\tvalidation_0-rmse:17.70532\n",
      "[48]\tvalidation_0-rmse:17.70733\n",
      "[49]\tvalidation_0-rmse:17.70948\n",
      "[50]\tvalidation_0-rmse:17.69998\n",
      "[51]\tvalidation_0-rmse:17.70941\n",
      "[52]\tvalidation_0-rmse:17.71396\n",
      "[53]\tvalidation_0-rmse:17.72069\n",
      "[54]\tvalidation_0-rmse:17.73939\n",
      "[55]\tvalidation_0-rmse:17.72754\n",
      "[56]\tvalidation_0-rmse:17.72859\n",
      "[57]\tvalidation_0-rmse:17.73596\n",
      "[58]\tvalidation_0-rmse:17.75646\n",
      "[59]\tvalidation_0-rmse:17.75560\n",
      "[60]\tvalidation_0-rmse:17.73700\n",
      "[61]\tvalidation_0-rmse:17.76658\n",
      "[62]\tvalidation_0-rmse:17.78239\n",
      "[63]\tvalidation_0-rmse:17.77592\n",
      "[64]\tvalidation_0-rmse:17.79295\n",
      "[65]\tvalidation_0-rmse:17.78528\n",
      "[66]\tvalidation_0-rmse:17.79601\n",
      "[67]\tvalidation_0-rmse:17.80223\n",
      "[68]\tvalidation_0-rmse:17.80151\n",
      "[69]\tvalidation_0-rmse:17.81722\n",
      "[70]\tvalidation_0-rmse:17.84604\n",
      "[71]\tvalidation_0-rmse:17.85414\n",
      "[72]\tvalidation_0-rmse:17.85459\n",
      "[73]\tvalidation_0-rmse:17.85726\n",
      "[74]\tvalidation_0-rmse:17.85696\n",
      "[75]\tvalidation_0-rmse:17.87436\n",
      "[76]\tvalidation_0-rmse:17.87903\n",
      "[77]\tvalidation_0-rmse:17.89392\n",
      "[78]\tvalidation_0-rmse:17.90397\n",
      "[79]\tvalidation_0-rmse:17.91589\n",
      "[80]\tvalidation_0-rmse:17.91356\n",
      "[81]\tvalidation_0-rmse:17.90588\n",
      "[82]\tvalidation_0-rmse:17.91227\n",
      "[83]\tvalidation_0-rmse:17.91346\n",
      "[84]\tvalidation_0-rmse:17.91934\n",
      "[85]\tvalidation_0-rmse:17.92493\n",
      "[86]\tvalidation_0-rmse:17.92817\n",
      "[87]\tvalidation_0-rmse:17.95160\n",
      "[88]\tvalidation_0-rmse:17.95637\n",
      "[89]\tvalidation_0-rmse:17.96139\n",
      "[90]\tvalidation_0-rmse:17.96359\n",
      "[91]\tvalidation_0-rmse:17.95021\n",
      "[92]\tvalidation_0-rmse:17.95671\n",
      "[93]\tvalidation_0-rmse:17.96693\n",
      "[94]\tvalidation_0-rmse:17.97398\n",
      "[95]\tvalidation_0-rmse:17.97995\n",
      "[96]\tvalidation_0-rmse:17.97173\n",
      "[97]\tvalidation_0-rmse:17.97635\n",
      "[98]\tvalidation_0-rmse:17.97688\n",
      "[99]\tvalidation_0-rmse:17.97934\n",
      "[0]\tvalidation_0-rmse:19.57332\n",
      "[1]\tvalidation_0-rmse:19.13413\n",
      "[2]\tvalidation_0-rmse:18.76611\n",
      "[3]\tvalidation_0-rmse:18.48786\n",
      "[4]\tvalidation_0-rmse:18.24156\n",
      "[5]\tvalidation_0-rmse:18.08214\n",
      "[6]\tvalidation_0-rmse:17.90913\n",
      "[7]\tvalidation_0-rmse:17.76060\n",
      "[8]\tvalidation_0-rmse:17.68302\n",
      "[9]\tvalidation_0-rmse:17.63268\n",
      "[10]\tvalidation_0-rmse:17.56424\n",
      "[11]\tvalidation_0-rmse:17.51315\n",
      "[12]\tvalidation_0-rmse:17.43283\n",
      "[13]\tvalidation_0-rmse:17.40605\n",
      "[14]\tvalidation_0-rmse:17.41113\n",
      "[15]\tvalidation_0-rmse:17.42801\n",
      "[16]\tvalidation_0-rmse:17.42260\n",
      "[17]\tvalidation_0-rmse:17.38457\n",
      "[18]\tvalidation_0-rmse:17.34657\n",
      "[19]\tvalidation_0-rmse:17.31785\n",
      "[20]\tvalidation_0-rmse:17.32119\n",
      "[21]\tvalidation_0-rmse:17.31368\n",
      "[22]\tvalidation_0-rmse:17.30958\n",
      "[23]\tvalidation_0-rmse:17.26313\n",
      "[24]\tvalidation_0-rmse:17.25270\n",
      "[25]\tvalidation_0-rmse:17.26036\n",
      "[26]\tvalidation_0-rmse:17.24038\n",
      "[27]\tvalidation_0-rmse:17.22136\n",
      "[28]\tvalidation_0-rmse:17.20790\n",
      "[29]\tvalidation_0-rmse:17.22420\n",
      "[30]\tvalidation_0-rmse:17.24156\n",
      "[31]\tvalidation_0-rmse:17.25152\n",
      "[32]\tvalidation_0-rmse:17.26946\n",
      "[33]\tvalidation_0-rmse:17.27085\n",
      "[34]\tvalidation_0-rmse:17.25451\n",
      "[35]\tvalidation_0-rmse:17.25701\n",
      "[36]\tvalidation_0-rmse:17.25412\n",
      "[37]\tvalidation_0-rmse:17.26712\n",
      "[38]\tvalidation_0-rmse:17.26286\n",
      "[39]\tvalidation_0-rmse:17.28640\n",
      "[40]\tvalidation_0-rmse:17.28890\n",
      "[41]\tvalidation_0-rmse:17.27983\n",
      "[42]\tvalidation_0-rmse:17.29116\n",
      "[43]\tvalidation_0-rmse:17.29136\n",
      "[44]\tvalidation_0-rmse:17.28816\n",
      "[45]\tvalidation_0-rmse:17.28962\n",
      "[46]\tvalidation_0-rmse:17.30228\n",
      "[47]\tvalidation_0-rmse:17.31197\n",
      "[48]\tvalidation_0-rmse:17.32377\n",
      "[49]\tvalidation_0-rmse:17.34269\n",
      "[50]\tvalidation_0-rmse:17.34627\n",
      "[51]\tvalidation_0-rmse:17.34297\n",
      "[52]\tvalidation_0-rmse:17.33774\n",
      "[53]\tvalidation_0-rmse:17.32358\n",
      "[54]\tvalidation_0-rmse:17.32090\n",
      "[55]\tvalidation_0-rmse:17.32747\n",
      "[56]\tvalidation_0-rmse:17.32440\n",
      "[57]\tvalidation_0-rmse:17.33529\n",
      "[58]\tvalidation_0-rmse:17.34026\n",
      "[59]\tvalidation_0-rmse:17.34708\n",
      "[60]\tvalidation_0-rmse:17.33918\n",
      "[61]\tvalidation_0-rmse:17.33697\n",
      "[62]\tvalidation_0-rmse:17.36174\n",
      "[63]\tvalidation_0-rmse:17.36545\n",
      "[64]\tvalidation_0-rmse:17.34746\n",
      "[65]\tvalidation_0-rmse:17.34668\n",
      "[66]\tvalidation_0-rmse:17.35457\n",
      "[67]\tvalidation_0-rmse:17.36787\n",
      "[68]\tvalidation_0-rmse:17.37371\n",
      "[69]\tvalidation_0-rmse:17.37908\n",
      "[70]\tvalidation_0-rmse:17.38193\n",
      "[71]\tvalidation_0-rmse:17.39256\n",
      "[72]\tvalidation_0-rmse:17.39484\n",
      "[73]\tvalidation_0-rmse:17.40706\n",
      "[74]\tvalidation_0-rmse:17.42075\n",
      "[75]\tvalidation_0-rmse:17.41574\n",
      "[76]\tvalidation_0-rmse:17.42789\n",
      "[77]\tvalidation_0-rmse:17.42876\n",
      "[78]\tvalidation_0-rmse:17.43166\n",
      "[79]\tvalidation_0-rmse:17.42999\n",
      "[80]\tvalidation_0-rmse:17.43104\n",
      "[81]\tvalidation_0-rmse:17.44051\n",
      "[82]\tvalidation_0-rmse:17.44925\n",
      "[83]\tvalidation_0-rmse:17.45026\n",
      "[84]\tvalidation_0-rmse:17.44769\n",
      "[85]\tvalidation_0-rmse:17.44954\n",
      "[86]\tvalidation_0-rmse:17.43434\n",
      "[87]\tvalidation_0-rmse:17.44012\n",
      "[88]\tvalidation_0-rmse:17.43883\n",
      "[89]\tvalidation_0-rmse:17.44656\n",
      "[90]\tvalidation_0-rmse:17.43532\n",
      "[91]\tvalidation_0-rmse:17.42155\n",
      "[92]\tvalidation_0-rmse:17.42019\n",
      "[93]\tvalidation_0-rmse:17.42830\n",
      "[94]\tvalidation_0-rmse:17.43772\n",
      "[95]\tvalidation_0-rmse:17.44477\n",
      "[96]\tvalidation_0-rmse:17.44958\n",
      "[97]\tvalidation_0-rmse:17.45185\n",
      "[98]\tvalidation_0-rmse:17.45013\n",
      "[99]\tvalidation_0-rmse:17.45693\n",
      "[0]\tvalidation_0-rmse:20.39780\n",
      "[1]\tvalidation_0-rmse:19.97257\n",
      "[2]\tvalidation_0-rmse:19.60735\n",
      "[3]\tvalidation_0-rmse:19.32191\n",
      "[4]\tvalidation_0-rmse:19.07776\n",
      "[5]\tvalidation_0-rmse:18.87936\n",
      "[6]\tvalidation_0-rmse:18.71658\n",
      "[7]\tvalidation_0-rmse:18.53757\n",
      "[8]\tvalidation_0-rmse:18.42475\n",
      "[9]\tvalidation_0-rmse:18.33639\n",
      "[10]\tvalidation_0-rmse:18.24417\n",
      "[11]\tvalidation_0-rmse:18.18039\n",
      "[12]\tvalidation_0-rmse:18.13523\n",
      "[13]\tvalidation_0-rmse:18.09199\n",
      "[14]\tvalidation_0-rmse:18.06302\n",
      "[15]\tvalidation_0-rmse:18.06372\n",
      "[16]\tvalidation_0-rmse:18.04354\n",
      "[17]\tvalidation_0-rmse:18.03960\n",
      "[18]\tvalidation_0-rmse:18.05753\n",
      "[19]\tvalidation_0-rmse:18.04137\n",
      "[20]\tvalidation_0-rmse:18.03124\n",
      "[21]\tvalidation_0-rmse:18.01805\n",
      "[22]\tvalidation_0-rmse:17.99843\n",
      "[23]\tvalidation_0-rmse:18.00374\n",
      "[24]\tvalidation_0-rmse:18.02158\n",
      "[25]\tvalidation_0-rmse:18.00171\n",
      "[26]\tvalidation_0-rmse:18.02162\n",
      "[27]\tvalidation_0-rmse:18.00902\n",
      "[28]\tvalidation_0-rmse:18.01899\n",
      "[29]\tvalidation_0-rmse:18.01782\n",
      "[30]\tvalidation_0-rmse:18.00876\n",
      "[31]\tvalidation_0-rmse:18.01900\n",
      "[32]\tvalidation_0-rmse:18.01518\n",
      "[33]\tvalidation_0-rmse:18.02023\n",
      "[34]\tvalidation_0-rmse:18.00457\n",
      "[35]\tvalidation_0-rmse:18.02456\n",
      "[36]\tvalidation_0-rmse:18.01846\n",
      "[37]\tvalidation_0-rmse:18.02104\n",
      "[38]\tvalidation_0-rmse:18.03841\n",
      "[39]\tvalidation_0-rmse:18.04506\n",
      "[40]\tvalidation_0-rmse:18.06055\n",
      "[41]\tvalidation_0-rmse:18.05413\n",
      "[42]\tvalidation_0-rmse:18.04130\n",
      "[43]\tvalidation_0-rmse:18.03417\n",
      "[44]\tvalidation_0-rmse:18.05934\n",
      "[45]\tvalidation_0-rmse:18.05511\n",
      "[46]\tvalidation_0-rmse:18.03841\n",
      "[47]\tvalidation_0-rmse:18.04410\n",
      "[48]\tvalidation_0-rmse:18.03670\n",
      "[49]\tvalidation_0-rmse:18.03862\n",
      "[50]\tvalidation_0-rmse:18.05615\n",
      "[51]\tvalidation_0-rmse:18.06870\n",
      "[52]\tvalidation_0-rmse:18.09277\n",
      "[53]\tvalidation_0-rmse:18.10514\n",
      "[54]\tvalidation_0-rmse:18.10740\n",
      "[55]\tvalidation_0-rmse:18.10949\n",
      "[56]\tvalidation_0-rmse:18.10105\n",
      "[57]\tvalidation_0-rmse:18.11168\n",
      "[58]\tvalidation_0-rmse:18.14468\n",
      "[59]\tvalidation_0-rmse:18.14281\n",
      "[60]\tvalidation_0-rmse:18.15058\n",
      "[61]\tvalidation_0-rmse:18.13986\n",
      "[62]\tvalidation_0-rmse:18.16296\n",
      "[63]\tvalidation_0-rmse:18.15852\n",
      "[64]\tvalidation_0-rmse:18.16921\n",
      "[65]\tvalidation_0-rmse:18.17097\n",
      "[66]\tvalidation_0-rmse:18.18719\n",
      "[67]\tvalidation_0-rmse:18.18992\n",
      "[68]\tvalidation_0-rmse:18.18719\n",
      "[69]\tvalidation_0-rmse:18.20052\n",
      "[70]\tvalidation_0-rmse:18.20435\n",
      "[71]\tvalidation_0-rmse:18.20897\n",
      "[72]\tvalidation_0-rmse:18.18182\n",
      "[73]\tvalidation_0-rmse:18.18519\n",
      "[74]\tvalidation_0-rmse:18.19239\n",
      "[75]\tvalidation_0-rmse:18.19061\n",
      "[76]\tvalidation_0-rmse:18.19664\n",
      "[77]\tvalidation_0-rmse:18.20042\n",
      "[78]\tvalidation_0-rmse:18.21250\n",
      "[79]\tvalidation_0-rmse:18.21366\n",
      "[80]\tvalidation_0-rmse:18.23528\n",
      "[81]\tvalidation_0-rmse:18.24165\n",
      "[82]\tvalidation_0-rmse:18.23790\n",
      "[83]\tvalidation_0-rmse:18.23264\n",
      "[84]\tvalidation_0-rmse:18.24736\n",
      "[85]\tvalidation_0-rmse:18.26786\n",
      "[86]\tvalidation_0-rmse:18.26703\n",
      "[87]\tvalidation_0-rmse:18.27420\n",
      "[88]\tvalidation_0-rmse:18.28011\n",
      "[89]\tvalidation_0-rmse:18.27173\n",
      "[90]\tvalidation_0-rmse:18.27988\n",
      "[91]\tvalidation_0-rmse:18.28285\n",
      "[92]\tvalidation_0-rmse:18.27862\n",
      "[93]\tvalidation_0-rmse:18.29107\n",
      "[94]\tvalidation_0-rmse:18.29967\n",
      "[95]\tvalidation_0-rmse:18.30107\n",
      "[96]\tvalidation_0-rmse:18.30766\n",
      "[97]\tvalidation_0-rmse:18.31005\n",
      "[98]\tvalidation_0-rmse:18.31488\n",
      "[99]\tvalidation_0-rmse:18.31540\n",
      "Average RMSE across folds: 17.912832704250423\n"
     ]
    }
   ],
   "source": [
    "kf = KFold(n_splits=5, shuffle=True, random_state=42)\n",
    "rmse_scores = []\n",
    "for train_idx, val_idx in kf.split(X):\n",
    "    X_train, X_val = X.iloc[train_idx], X.iloc[val_idx]\n",
    "    y_train, y_val = Y.iloc[train_idx], Y.iloc[val_idx]\n",
    "\n",
    "    model = XGBRegressor(n_estimators=100, learning_rate=0.1)\n",
    "    model.fit(\n",
    "        X_train, y_train,\n",
    "        eval_set=[(X_val, y_val)],\n",
    "        verbose=True\n",
    "    )\n",
    "\n",
    "    preds = model.predict(X_val)\n",
    "    rmse = np.sqrt(mean_squared_error(y_val, preds))\n",
    "    rmse_scores.append(rmse)\n",
    "\n",
    "print(\"Average RMSE across folds:\", np.mean(rmse_scores))"
   ]
  },
  {
   "cell_type": "code",
   "execution_count": 55,
   "metadata": {},
   "outputs": [],
   "source": [
    "train = train.reset_index(drop=True)"
   ]
  },
  {
   "cell_type": "code",
   "execution_count": 56,
   "metadata": {},
   "outputs": [],
   "source": [
    "predictions_xgb = model.predict(X)"
   ]
  },
  {
   "cell_type": "code",
   "execution_count": 57,
   "metadata": {},
   "outputs": [
    {
     "data": {
      "text/plain": [
       "(2736,)"
      ]
     },
     "execution_count": 57,
     "metadata": {},
     "output_type": "execute_result"
    }
   ],
   "source": [
    "predictions_xgb.shape"
   ]
  },
  {
   "cell_type": "code",
   "execution_count": 58,
   "metadata": {},
   "outputs": [
    {
     "data": {
      "text/plain": [
       "0"
      ]
     },
     "execution_count": 58,
     "metadata": {},
     "output_type": "execute_result"
    }
   ],
   "source": [
    "pd.Series(predictions_xgb).isnull().sum()"
   ]
  },
  {
   "cell_type": "code",
   "execution_count": null,
   "metadata": {},
   "outputs": [],
   "source": []
  },
  {
   "cell_type": "code",
   "execution_count": 59,
   "metadata": {},
   "outputs": [],
   "source": [
    "train['predicted_val'] = pd.Series(predictions_xgb).apply(get_rating)"
   ]
  },
  {
   "cell_type": "code",
   "execution_count": 60,
   "metadata": {},
   "outputs": [
    {
     "data": {
      "text/plain": [
       "0       1\n",
       "1       0\n",
       "2       1\n",
       "3       1\n",
       "4       0\n",
       "       ..\n",
       "2731    0\n",
       "2732    0\n",
       "2733    1\n",
       "2734    1\n",
       "2735    0\n",
       "Name: predicted_val, Length: 2736, dtype: int64"
      ]
     },
     "execution_count": 60,
     "metadata": {},
     "output_type": "execute_result"
    }
   ],
   "source": [
    "train['predicted_val']"
   ]
  },
  {
   "cell_type": "code",
   "execution_count": 61,
   "metadata": {},
   "outputs": [
    {
     "data": {
      "text/plain": [
       "0.6460869312921528"
      ]
     },
     "execution_count": 61,
     "metadata": {},
     "output_type": "execute_result"
    }
   ],
   "source": [
    "quadratic_weighted_kappa(train['sii'], train['predicted_val'])"
   ]
  },
  {
   "cell_type": "code",
   "execution_count": 62,
   "metadata": {},
   "outputs": [],
   "source": [
    "train.to_csv(\"final_values.csv\", index=False)"
   ]
  },
  {
   "cell_type": "code",
   "execution_count": 63,
   "metadata": {},
   "outputs": [
    {
     "name": "stdout",
     "output_type": "stream",
     "text": [
      "Misclassification Error: 0.23282163742690054\n"
     ]
    }
   ],
   "source": [
    "misclassification_error = 1 - accuracy_score(train['sii'], train['predicted_val'])\n",
    "print(\"Misclassification Error:\", misclassification_error)"
   ]
  },
  {
   "cell_type": "code",
   "execution_count": 64,
   "metadata": {},
   "outputs": [],
   "source": [
    "for col in test.columns:\n",
    "    if test[col].dtype == 'object' or str(test[col].dtype) == 'category':\n",
    "        le = LabelEncoder()\n",
    "        test[col] = le.fit_transform(test[col].astype(str))"
   ]
  },
  {
   "cell_type": "code",
   "execution_count": 65,
   "metadata": {},
   "outputs": [],
   "source": [
    "X_test = test.drop(columns=['id', 'BIA-BIA_BMI', 'SDS-SDS_Total_T'])"
   ]
  },
  {
   "cell_type": "code",
   "execution_count": 66,
   "metadata": {},
   "outputs": [],
   "source": [
    "# test_impute_lr = test_impute_lr.drop(columns=['id'])\n",
    "predictions_xgb_test = model.predict(X_test)"
   ]
  },
  {
   "cell_type": "code",
   "execution_count": 67,
   "metadata": {},
   "outputs": [],
   "source": [
    "test['predicted_val'] = pd.Series(predictions_xgb_test).apply(get_rating)"
   ]
  },
  {
   "cell_type": "code",
   "execution_count": 68,
   "metadata": {},
   "outputs": [
    {
     "data": {
      "text/plain": [
       "0"
      ]
     },
     "execution_count": 68,
     "metadata": {},
     "output_type": "execute_result"
    }
   ],
   "source": [
    "test['predicted_val'].isnull().sum()"
   ]
  },
  {
   "cell_type": "code",
   "execution_count": 69,
   "metadata": {},
   "outputs": [
    {
     "data": {
      "text/plain": [
       "(20,)"
      ]
     },
     "execution_count": 69,
     "metadata": {},
     "output_type": "execute_result"
    }
   ],
   "source": [
    "test['predicted_val'].shape"
   ]
  },
  {
   "cell_type": "code",
   "execution_count": 70,
   "metadata": {},
   "outputs": [
    {
     "name": "stderr",
     "output_type": "stream",
     "text": [
      "/var/folders/tn/htz4wbqn6g11g465bmx5l4tr0000gn/T/ipykernel_47224/3441375821.py:2: SettingWithCopyWarning: \n",
      "A value is trying to be set on a copy of a slice from a DataFrame\n",
      "\n",
      "See the caveats in the documentation: https://pandas.pydata.org/pandas-docs/stable/user_guide/indexing.html#returning-a-view-versus-a-copy\n",
      "  test_to_save.rename(columns={'predicted_val': 'sii'}, inplace=True)\n"
     ]
    }
   ],
   "source": [
    "test_to_save = test[['id', 'predicted_val']]\n",
    "test_to_save.rename(columns={'predicted_val': 'sii'}, inplace=True)\n",
    "test_to_save.to_csv(\"submission.csv\", index=False)"
   ]
  }
 ],
 "metadata": {
  "kernelspec": {
   "display_name": "base",
   "language": "python",
   "name": "python3"
  },
  "language_info": {
   "codemirror_mode": {
    "name": "ipython",
    "version": 3
   },
   "file_extension": ".py",
   "mimetype": "text/x-python",
   "name": "python",
   "nbconvert_exporter": "python",
   "pygments_lexer": "ipython3",
   "version": "3.11.4"
  }
 },
 "nbformat": 4,
 "nbformat_minor": 2
}
